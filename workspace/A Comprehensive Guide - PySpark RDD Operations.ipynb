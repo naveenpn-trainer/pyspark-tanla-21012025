{
 "cells": [
  {
   "cell_type": "code",
   "execution_count": 0,
   "metadata": {
    "application/vnd.databricks.v1+cell": {
     "cellMetadata": {},
     "inputWidgets": {},
     "nuid": "69b2f9cd-ff35-4b2b-8478-be19efbe68e0",
     "showTitle": false,
     "tableResultSettingsMap": {},
     "title": ""
    },
    "colab": {
     "base_uri": "https://localhost:8080/"
    },
    "id": "Y2UaNvgIw9pe",
    "outputId": "5dcd2b75-b8d0-4f09-c8a0-43459e9a160b"
   },
   "outputs": [],
   "source": [
    "# imports\n",
    "from pyspark.sql import SparkSession\n",
    "# Create Spark Session\n",
    "spark = SparkSession.builder \\\n",
    "                    .appName(\"RDD Operations\") \\\n",
    "                    .master(\"local\") \\\n",
    "                    .getOrCreate()\n",
    "\n",
    "# Create Spark Context\n",
    "sc = spark.sparkContext\n",
    "print(type(spark))\n",
    "print(type(sc))"
   ]
  },
  {
   "cell_type": "markdown",
   "metadata": {
    "application/vnd.databricks.v1+cell": {
     "cellMetadata": {},
     "inputWidgets": {},
     "nuid": "ff621b9e-96ee-4e99-9ced-b43ddf71382f",
     "showTitle": false,
     "tableResultSettingsMap": {},
     "title": ""
    },
    "id": "DaN_v1WF5ZvF"
   },
   "source": [
    "# Introduction to RDD's"
   ]
  },
  {
   "cell_type": "markdown",
   "metadata": {
    "application/vnd.databricks.v1+cell": {
     "cellMetadata": {},
     "inputWidgets": {},
     "nuid": "606eecfd-2572-4514-a8eb-2352e11ea071",
     "showTitle": false,
     "tableResultSettingsMap": {},
     "title": ""
    },
    "id": "0tPyy5Xav3ru"
   },
   "source": [
    "# RDD Creation"
   ]
  },
  {
   "cell_type": "markdown",
   "metadata": {
    "application/vnd.databricks.v1+cell": {
     "cellMetadata": {},
     "inputWidgets": {},
     "nuid": "e68162c1-9762-463e-ab16-2e7e33fa9a9b",
     "showTitle": false,
     "tableResultSettingsMap": {},
     "title": ""
    },
    "id": "T1mbrdQJv6iD"
   },
   "source": [
    "## Create RDD from Collection"
   ]
  },
  {
   "cell_type": "markdown",
   "metadata": {
    "application/vnd.databricks.v1+cell": {
     "cellMetadata": {},
     "inputWidgets": {},
     "nuid": "ecfbf607-a04d-43a9-b201-6d1160934a19",
     "showTitle": false,
     "tableResultSettingsMap": {},
     "title": ""
    },
    "id": "MeuhEdVmv9v0"
   },
   "source": [
    "## Create RDD from external source"
   ]
  },
  {
   "cell_type": "markdown",
   "metadata": {
    "application/vnd.databricks.v1+cell": {
     "cellMetadata": {},
     "inputWidgets": {},
     "nuid": "aacb9c04-1669-4ae3-8687-0d0c0998e25b",
     "showTitle": false,
     "tableResultSettingsMap": {},
     "title": ""
    },
    "id": "7_ZKlS-o5lrE"
   },
   "source": [
    "# RDD Operations"
   ]
  },
  {
   "cell_type": "markdown",
   "metadata": {
    "application/vnd.databricks.v1+cell": {
     "cellMetadata": {},
     "inputWidgets": {},
     "nuid": "aa106381-b1f2-4b6e-a0ad-a73d3dc08796",
     "showTitle": false,
     "tableResultSettingsMap": {},
     "title": ""
    },
    "id": "Kcdgy0qc5btM"
   },
   "source": [
    "## Transformations"
   ]
  },
  {
   "cell_type": "code",
   "execution_count": 0,
   "metadata": {
    "application/vnd.databricks.v1+cell": {
     "cellMetadata": {},
     "inputWidgets": {},
     "nuid": "8e7fe6d8-13d4-4893-a342-4b89b32d6f10",
     "showTitle": false,
     "tableResultSettingsMap": {},
     "title": ""
    },
    "id": "xLn0-8bl5bEr"
   },
   "outputs": [],
   "source": []
  },
  {
   "cell_type": "markdown",
   "metadata": {
    "application/vnd.databricks.v1+cell": {
     "cellMetadata": {},
     "inputWidgets": {},
     "nuid": "bb15ddff-f78d-4e0b-9e7f-5d6fd124cc6c",
     "showTitle": false,
     "tableResultSettingsMap": {},
     "title": ""
    },
    "id": "biBUeuJk5dWI"
   },
   "source": [
    "## Actions"
   ]
  },
  {
   "cell_type": "code",
   "execution_count": 0,
   "metadata": {
    "application/vnd.databricks.v1+cell": {
     "cellMetadata": {},
     "inputWidgets": {},
     "nuid": "d7a702a5-b9d8-4049-867b-bf4307195e3f",
     "showTitle": false,
     "tableResultSettingsMap": {},
     "title": ""
    },
    "id": "Vri5pFGM5eFc"
   },
   "outputs": [],
   "source": []
  },
  {
   "cell_type": "markdown",
   "metadata": {
    "application/vnd.databricks.v1+cell": {
     "cellMetadata": {},
     "inputWidgets": {},
     "nuid": "91c06f5d-9dbd-4449-ab6c-614c24106dd0",
     "showTitle": false,
     "tableResultSettingsMap": {},
     "title": ""
    },
    "id": "Ad9SA7REu0Hs"
   },
   "source": [
    "# Transformations"
   ]
  },
  {
   "cell_type": "code",
   "execution_count": 0,
   "metadata": {
    "application/vnd.databricks.v1+cell": {
     "cellMetadata": {},
     "inputWidgets": {},
     "nuid": "a22df3ab-7e6c-4f21-9914-9ce166b7d547",
     "showTitle": false,
     "tableResultSettingsMap": {},
     "title": ""
    },
    "colab": {
     "base_uri": "https://localhost:8080/"
    },
    "id": "QKA1We4B2FXn",
    "outputId": "02165433-8560-40a5-d864-66c0cdae7cc4"
   },
   "outputs": [],
   "source": [
    "sample_data = list(range(1,11)) + [1, 2, 2, 3, 4, 5, 5, 5, 6]\n",
    "print(f\"{type(sample_data)} \\n{sample_data}\")\n",
    "rdd = sc.parallelize(sample_data)\n",
    "print(type(rdd))"
   ]
  },
  {
   "cell_type": "markdown",
   "metadata": {
    "application/vnd.databricks.v1+cell": {
     "cellMetadata": {},
     "inputWidgets": {},
     "nuid": "635f549e-149b-41a2-ac8b-baca0ca68ca6",
     "showTitle": false,
     "tableResultSettingsMap": {},
     "title": ""
    },
    "id": "h62nC67vu2x-"
   },
   "source": [
    "## The .map(fun)\n",
    "\n",
    "> The map(func) returns  a new RDD by applying a function to each of the elements in the original RDD."
   ]
  },
  {
   "cell_type": "code",
   "execution_count": 0,
   "metadata": {
    "application/vnd.databricks.v1+cell": {
     "cellMetadata": {},
     "inputWidgets": {},
     "nuid": "7e7951e1-8317-4740-8faf-4463dcb3d262",
     "showTitle": false,
     "tableResultSettingsMap": {},
     "title": ""
    },
    "colab": {
     "base_uri": "https://localhost:8080/"
    },
    "id": "k4HpDEBvu1V_",
    "outputId": "9e485424-792a-483e-fc21-b2e63cc1ad00"
   },
   "outputs": [],
   "source": [
    "result = rdd.map(lambda x:x*2)\n",
    "for record in result.collect():\n",
    "   print(record)"
   ]
  },
  {
   "cell_type": "markdown",
   "metadata": {
    "application/vnd.databricks.v1+cell": {
     "cellMetadata": {},
     "inputWidgets": {},
     "nuid": "9bf35e22-c4c2-479c-82f2-832b43c9378a",
     "showTitle": false,
     "tableResultSettingsMap": {},
     "title": ""
    },
    "id": "JHh4NwBb2O6e"
   },
   "source": [
    "## The .filter(predicateFun)\n",
    "\n",
    "filter() returns a new RDD containing only the elements in the parent RDD that satisfy the function inside the filter.\n",
    "\n"
   ]
  },
  {
   "cell_type": "code",
   "execution_count": 0,
   "metadata": {
    "application/vnd.databricks.v1+cell": {
     "cellMetadata": {},
     "inputWidgets": {},
     "nuid": "adde9ff2-28f0-46f0-badf-28f876a13f21",
     "showTitle": false,
     "tableResultSettingsMap": {},
     "title": ""
    },
    "id": "d2s0gruUvnHq"
   },
   "outputs": [],
   "source": [
    "result = rdd.filter(lambda x: x % 3 == 0 and x % 5 == 0)\n",
    "for record in result.collect():\n",
    "   print(record)\n"
   ]
  },
  {
   "cell_type": "markdown",
   "metadata": {
    "application/vnd.databricks.v1+cell": {
     "cellMetadata": {},
     "inputWidgets": {},
     "nuid": "d6372cc9-2452-44f9-8458-c1cddc51656a",
     "showTitle": false,
     "tableResultSettingsMap": {},
     "title": ""
    },
    "id": "KxaKv7y-2Wyg"
   },
   "source": [
    "## The .distinct()\n",
    "\n",
    "Return a new RDD containing the distinct elements in this RDD.\n"
   ]
  },
  {
   "cell_type": "code",
   "execution_count": 0,
   "metadata": {
    "application/vnd.databricks.v1+cell": {
     "cellMetadata": {},
     "inputWidgets": {},
     "nuid": "c985e4b3-6d97-4c1f-b3b9-22bfa83ad6b8",
     "showTitle": false,
     "tableResultSettingsMap": {},
     "title": ""
    },
    "colab": {
     "base_uri": "https://localhost:8080/"
    },
    "id": "8P91SdXe2bk5",
    "outputId": "0de13c72-44e9-4972-b902-96d4b83be41a"
   },
   "outputs": [],
   "source": [
    "result = rdd.distinct()\n",
    "for record in result.collect():\n",
    "   print(record)\n"
   ]
  },
  {
   "cell_type": "markdown",
   "metadata": {
    "application/vnd.databricks.v1+cell": {
     "cellMetadata": {},
     "inputWidgets": {},
     "nuid": "ea2d32b7-c4cf-4f23-85fc-eed92cc82501",
     "showTitle": false,
     "tableResultSettingsMap": {},
     "title": ""
    },
    "id": "ttokJeli2lK5"
   },
   "source": [
    "## The .flatMap(func)\n",
    "\n",
    "The .flatMap() transformation peforms same as the .map() transformation except the fact that .flatMap() transformation return seperate values for each element from original RDD.\n",
    "\n"
   ]
  },
  {
   "cell_type": "code",
   "execution_count": 0,
   "metadata": {
    "application/vnd.databricks.v1+cell": {
     "cellMetadata": {},
     "inputWidgets": {},
     "nuid": "7bc38b19-fdf1-43b0-aef8-92033f413a5b",
     "showTitle": false,
     "tableResultSettingsMap": {},
     "title": ""
    },
    "id": "zge2rMVr2rVN"
   },
   "outputs": [],
   "source": [
    "flatmap_rdd = spark.sparkContext.parallelize([\"Hey there\", \"This is PySpark RDD Transformations\"])\n",
    "(flatmap_rdd.flatMap(lambda x: x.split(\" \")).collect())"
   ]
  },
  {
   "cell_type": "markdown",
   "metadata": {
    "application/vnd.databricks.v1+cell": {
     "cellMetadata": {},
     "inputWidgets": {},
     "nuid": "0f179608-c8aa-47dd-aa30-a632a3c265e6",
     "showTitle": false,
     "tableResultSettingsMap": {},
     "title": ""
    },
    "id": "uUZoAFQYECcC"
   },
   "source": [
    "## The .union()\n",
    "\n",
    "> The union() transformation returns a new RDD which contains all elements from two RDDs:"
   ]
  },
  {
   "cell_type": "code",
   "execution_count": 0,
   "metadata": {
    "application/vnd.databricks.v1+cell": {
     "cellMetadata": {},
     "inputWidgets": {},
     "nuid": "936655ee-7a91-4c37-8e1f-fa1088dbb66b",
     "showTitle": false,
     "tableResultSettingsMap": {},
     "title": ""
    },
    "id": "vGFr7ehBEFpa"
   },
   "outputs": [],
   "source": [
    "rdd1 = sc.parallelize([2, 2, 3, 5, 6, 6, 7, 8, 9])\n",
    "\n",
    "rdd2 = sc.parallelize([2, 2, 3, 5, 6, 6, 7, 8, 9])\n",
    "\n",
    "new_RDD = rdd1.union(rdd2)"
   ]
  },
  {
   "cell_type": "markdown",
   "metadata": {
    "application/vnd.databricks.v1+cell": {
     "cellMetadata": {},
     "inputWidgets": {},
     "nuid": "7d798b17-69a3-474f-8980-50439ce3a305",
     "showTitle": false,
     "tableResultSettingsMap": {},
     "title": ""
    },
    "id": "kVnY9yKgEUOQ"
   },
   "source": [
    "## The .intersection()\n",
    "\n",
    "The intersection() transformation returns a new RDD which contains an intersection of the elements in both RDDs:"
   ]
  },
  {
   "cell_type": "code",
   "execution_count": 0,
   "metadata": {
    "application/vnd.databricks.v1+cell": {
     "cellMetadata": {},
     "inputWidgets": {},
     "nuid": "6c766725-9f14-4b90-9ad2-8826782dcce1",
     "showTitle": false,
     "tableResultSettingsMap": {},
     "title": ""
    },
    "id": "F6w7IU2IEXDp"
   },
   "outputs": [],
   "source": [
    "new_RDD = rdd1.intersection(rdd2)\n",
    "new_RDD.take(10)\n",
    "[2, 3, 5, 6]"
   ]
  },
  {
   "cell_type": "markdown",
   "metadata": {
    "application/vnd.databricks.v1+cell": {
     "cellMetadata": {},
     "inputWidgets": {},
     "nuid": "4e7c45e6-2b22-44e8-87cf-54f0f75309e7",
     "showTitle": false,
     "tableResultSettingsMap": {},
     "title": ""
    },
    "id": "e38Chxc3Ebue"
   },
   "source": [
    "## The .subtract()\n",
    "The subtract() transformation returns a new RDD which has elements present in the first RDD but not in second RDD:"
   ]
  },
  {
   "cell_type": "code",
   "execution_count": 0,
   "metadata": {
    "application/vnd.databricks.v1+cell": {
     "cellMetadata": {},
     "inputWidgets": {},
     "nuid": "ecf66a99-3624-450c-9156-36752854e4c2",
     "showTitle": false,
     "tableResultSettingsMap": {},
     "title": ""
    },
    "id": "sGH7jZfyEfda"
   },
   "outputs": [],
   "source": [
    "new_RDD = rdd1.subtract(rdd2)\n",
    "new_RDD.take(10)\n",
    "[1, 4]"
   ]
  },
  {
   "cell_type": "markdown",
   "metadata": {
    "application/vnd.databricks.v1+cell": {
     "cellMetadata": {},
     "inputWidgets": {},
     "nuid": "0012d819-05b6-4160-9031-94df79fde9ce",
     "showTitle": false,
     "tableResultSettingsMap": {},
     "title": ""
    },
    "id": "xhS7SKopEiP5"
   },
   "source": [
    "## The sample()\n",
    "\n",
    "The sample() transformation returns a new RDD containing n-ratio sampled elements subset of existing RDD:"
   ]
  },
  {
   "cell_type": "code",
   "execution_count": 0,
   "metadata": {
    "application/vnd.databricks.v1+cell": {
     "cellMetadata": {},
     "inputWidgets": {},
     "nuid": "9bca5883-bdd8-4923-b3ac-f9c182fb64ed",
     "showTitle": false,
     "tableResultSettingsMap": {},
     "title": ""
    },
    "id": "ZZgwNfbiEmXk"
   },
   "outputs": [],
   "source": [
    "new_RDD = rdd1.sample(False,0.5)\n",
    "new_RDD.collect()\n",
    "[2, 3, 5, 5]"
   ]
  },
  {
   "cell_type": "markdown",
   "metadata": {
    "application/vnd.databricks.v1+cell": {
     "cellMetadata": {},
     "inputWidgets": {},
     "nuid": "78bd8515-2d07-452e-9234-5916d1e5558c",
     "showTitle": false,
     "tableResultSettingsMap": {},
     "title": ""
    },
    "id": "4RTJnDvsEzWY"
   },
   "source": [
    "## Pair RDD Transformations\n",
    "\n",
    "Pair RDD tranformations are just another way of referring to an RDD which containins key/value pairs like tuples of data. Pair RDD transformations are applied on each key/element in parallel, where normal transfomations on RDD (like map()) are applied to the all elements of the collection. Because being like dictionaries with key-value pairs, Pair RDDs are widely used."
   ]
  },
  {
   "cell_type": "code",
   "execution_count": 0,
   "metadata": {
    "application/vnd.databricks.v1+cell": {
     "cellMetadata": {},
     "inputWidgets": {},
     "nuid": "d7af7d1f-f7cf-4af5-be22-50430074b1c9",
     "showTitle": false,
     "tableResultSettingsMap": {},
     "title": ""
    },
    "id": "TZ3-YCN9FhYu"
   },
   "outputs": [],
   "source": []
  },
  {
   "cell_type": "markdown",
   "metadata": {
    "application/vnd.databricks.v1+cell": {
     "cellMetadata": {},
     "inputWidgets": {},
     "nuid": "df2b06a0-1c8b-4f31-a3d8-c6eb39aefd09",
     "showTitle": false,
     "tableResultSettingsMap": {},
     "title": ""
    },
    "id": "0xjhmA8mFhxx"
   },
   "source": [
    "### The .reduceByKey\n",
    "\n",
    "The .reduceByKey() transformation performs multiple parallel processes for each key in the data and combines the values for the same keys.\n",
    "\n"
   ]
  },
  {
   "cell_type": "code",
   "execution_count": 0,
   "metadata": {
    "application/vnd.databricks.v1+cell": {
     "cellMetadata": {},
     "inputWidgets": {},
     "nuid": "d2fb8d7c-04b7-43a7-9ac2-a4865463e33f",
     "showTitle": false,
     "tableResultSettingsMap": {},
     "title": ""
    },
    "colab": {
     "base_uri": "https://localhost:8080/"
    },
    "id": "yMEcyt8FFhxy",
    "outputId": "950960ce-b3cf-42b0-ab7b-867d92e80d05"
   },
   "outputs": [],
   "source": [
    "data = [('Technician', 25), ('Lawer', 26), ('Writer', 22), ('Executive', 29), ('Scientist', 22), ('Technician', 23), ('Lawer', 19), ('Writer', 28), ('Executive', 26), ('Scientist', 22)]\n",
    "marks_rdd = sc.parallelize(data)\n",
    "print(marks_rdd.reduceByKey(lambda x, y: x + y).collect())"
   ]
  },
  {
   "cell_type": "code",
   "execution_count": 0,
   "metadata": {
    "application/vnd.databricks.v1+cell": {
     "cellMetadata": {},
     "inputWidgets": {},
     "nuid": "2f6ecc26-1ac5-4b00-819c-96f3f536762f",
     "showTitle": false,
     "tableResultSettingsMap": {},
     "title": ""
    },
    "id": "LtoIqdnXFsCN"
   },
   "outputs": [],
   "source": []
  },
  {
   "cell_type": "markdown",
   "metadata": {
    "application/vnd.databricks.v1+cell": {
     "cellMetadata": {},
     "inputWidgets": {},
     "nuid": "07f24fa5-9882-4613-8a8f-257362f33dc2",
     "showTitle": false,
     "tableResultSettingsMap": {},
     "title": ""
    },
    "id": "tEgZc0ut3HIh"
   },
   "source": [
    "### The sortByKey\n",
    "\n",
    "The .sortByKey() transformation sorts the input data by keys from key-value pairs either in ascending or descending order. It returns a unique RDD as a result."
   ]
  },
  {
   "cell_type": "code",
   "execution_count": 0,
   "metadata": {
    "application/vnd.databricks.v1+cell": {
     "cellMetadata": {},
     "inputWidgets": {},
     "nuid": "3e8e14ff-7f38-4968-8ac9-e76d8a30d315",
     "showTitle": false,
     "tableResultSettingsMap": {},
     "title": ""
    },
    "id": "9MyHop3i3u2F"
   },
   "outputs": [],
   "source": [
    "data = [('Technician', 25), ('Lawer', 26), ('Writer', 22), ('Executive', 29), ('Scientist', 22), ('Technician', 23), ('Lawer', 19), ('Writer', 28), ('Executive', 26), ('Scientist', 22)]\n",
    "rdd = sc.parallelize(data)\n",
    "print(rdd.sortByKey(\"ascending\").collect())"
   ]
  },
  {
   "cell_type": "code",
   "execution_count": 0,
   "metadata": {
    "application/vnd.databricks.v1+cell": {
     "cellMetadata": {},
     "inputWidgets": {},
     "nuid": "5930ef04-dfd7-4655-834c-24a3fd143150",
     "showTitle": false,
     "tableResultSettingsMap": {},
     "title": ""
    },
    "id": "9oGICI6dFwUa"
   },
   "outputs": [],
   "source": []
  },
  {
   "cell_type": "markdown",
   "metadata": {
    "application/vnd.databricks.v1+cell": {
     "cellMetadata": {},
     "inputWidgets": {},
     "nuid": "e6e29d2f-0565-49cd-a379-a0b3a07bbe26",
     "showTitle": false,
     "tableResultSettingsMap": {},
     "title": ""
    },
    "id": "13CS1-Y03Ohn"
   },
   "source": [
    "### THe groupByKey\n",
    "\n",
    "The .groupByKey() transformation groups all the values in the given data with the same key together. It returns a new RDD as a result."
   ]
  },
  {
   "cell_type": "code",
   "execution_count": 0,
   "metadata": {
    "application/vnd.databricks.v1+cell": {
     "cellMetadata": {},
     "inputWidgets": {},
     "nuid": "2d60494d-661a-46b5-9b3b-2a3ae3343964",
     "showTitle": false,
     "tableResultSettingsMap": {},
     "title": ""
    },
    "id": "ZLUNqniW3tA0"
   },
   "outputs": [],
   "source": [
    "data = [('Technician', 25), ('Lawer', 26), ('Writer', 22), ('Executive', 29), ('Scientist', 22), ('Technician', 23), ('Lawer', 19), ('Writer', 28), ('Executive', 26), ('Scientist', 22)]\n",
    "rdd = sc.parallelize(data)\n",
    "result = rdd.groupByKey()\n",
    "for key,value in result.collect():\n",
    "   print(key,list(value))"
   ]
  },
  {
   "cell_type": "code",
   "execution_count": 0,
   "metadata": {
    "application/vnd.databricks.v1+cell": {
     "cellMetadata": {},
     "inputWidgets": {},
     "nuid": "e26d8e4a-a068-4386-beb0-d43035f870e4",
     "showTitle": false,
     "tableResultSettingsMap": {},
     "title": ""
    },
    "id": "4ey7JFyWF0Lv"
   },
   "outputs": [],
   "source": []
  },
  {
   "cell_type": "markdown",
   "metadata": {
    "application/vnd.databricks.v1+cell": {
     "cellMetadata": {},
     "inputWidgets": {},
     "nuid": "ec28a74c-78a4-49d3-acc0-c15bcb7621d8",
     "showTitle": false,
     "tableResultSettingsMap": {},
     "title": ""
    },
    "id": "T93aBcnG11fG"
   },
   "source": [
    "### The countByKey()\n",
    "\n",
    "The .countByKey() option is used to count the number of values for each key in the given data. This action returns a dictionary.\n",
    "Since we are getting a dictionary as a result, we can also use the dictionary methods such as .keys(), .values() and .items().\n",
    "\n"
   ]
  },
  {
   "cell_type": "code",
   "execution_count": 0,
   "metadata": {
    "application/vnd.databricks.v1+cell": {
     "cellMetadata": {},
     "inputWidgets": {},
     "nuid": "228e70df-549c-49e4-bd42-e7b3c9c68f91",
     "showTitle": false,
     "tableResultSettingsMap": {},
     "title": ""
    },
    "colab": {
     "base_uri": "https://localhost:8080/"
    },
    "id": "qq8y-jVUxc1J",
    "outputId": "c9b50910-145b-466e-c6cb-74fd3a070f8d"
   },
   "outputs": [],
   "source": [
    "data = [('Technician', 25), ('Lawer', 26), ('Writer', 22), ('Executive', 29), ('Scientist', 22), ('Technician', 23), ('Lawer', 19), ('Writer', 28), ('Executive', 26), ('Scientist', 22)]\n",
    "rdd = sc.parallelize(data)\n",
    "result = rdd.countByKey()\n",
    "for key,value in result.items():\n",
    "   print(key,value)\n",
    "\n"
   ]
  },
  {
   "cell_type": "markdown",
   "metadata": {
    "application/vnd.databricks.v1+cell": {
     "cellMetadata": {},
     "inputWidgets": {},
     "nuid": "d8141302-c58b-4893-873c-00c3c0dedc13",
     "showTitle": false,
     "tableResultSettingsMap": {},
     "title": ""
    },
    "id": "jtg1spdMF-kb"
   },
   "source": [
    "### The .join"
   ]
  },
  {
   "cell_type": "code",
   "execution_count": 0,
   "metadata": {
    "application/vnd.databricks.v1+cell": {
     "cellMetadata": {},
     "inputWidgets": {},
     "nuid": "514d3bde-b7ce-4751-9f9b-ddd9a4b20daa",
     "showTitle": false,
     "tableResultSettingsMap": {},
     "title": ""
    },
    "id": "4Mg0biHZ3ZzS"
   },
   "outputs": [],
   "source": []
  },
  {
   "cell_type": "markdown",
   "metadata": {
    "application/vnd.databricks.v1+cell": {
     "cellMetadata": {},
     "inputWidgets": {},
     "nuid": "cdc4dc8a-7bf8-4b44-9856-65b378ea6c5a",
     "showTitle": false,
     "tableResultSettingsMap": {},
     "title": ""
    },
    "id": "V2ravDZ9vpZF"
   },
   "source": [
    "# Operations"
   ]
  },
  {
   "cell_type": "code",
   "execution_count": 0,
   "metadata": {
    "application/vnd.databricks.v1+cell": {
     "cellMetadata": {},
     "inputWidgets": {},
     "nuid": "9313cb5b-8a75-4375-bdd9-702c2fb9384c",
     "showTitle": false,
     "tableResultSettingsMap": {},
     "title": ""
    },
    "colab": {
     "base_uri": "https://localhost:8080/"
    },
    "id": "VQjmuc4ixozy",
    "outputId": "44c7e917-9d7a-4a6f-e2cf-ccf97e684fd1"
   },
   "outputs": [],
   "source": []
  },
  {
   "cell_type": "markdown",
   "metadata": {
    "application/vnd.databricks.v1+cell": {
     "cellMetadata": {},
     "inputWidgets": {},
     "nuid": "2cad70ce-13eb-4abf-a834-c4015662ca6f",
     "showTitle": false,
     "tableResultSettingsMap": {},
     "title": ""
    },
    "id": "qDAOCxsfywK1"
   },
   "source": [
    "## The .count()\n",
    "\n",
    "> The .count() action on an RDD is an operation that returns the number of elements of our RDD."
   ]
  },
  {
   "cell_type": "code",
   "execution_count": 0,
   "metadata": {
    "application/vnd.databricks.v1+cell": {
     "cellMetadata": {},
     "inputWidgets": {},
     "nuid": "56facea1-1692-410e-8b1b-f36e8a168184",
     "showTitle": false,
     "tableResultSettingsMap": {},
     "title": ""
    },
    "colab": {
     "base_uri": "https://localhost:8080/"
    },
    "id": "BKSQ1XWRy1j5",
    "outputId": "9426b3c6-4291-4fd9-d36e-fef68bc90bf3"
   },
   "outputs": [],
   "source": [
    "total_count = rdd.count()\n",
    "print(f\"Total count :{total_count}\")"
   ]
  },
  {
   "cell_type": "markdown",
   "metadata": {
    "application/vnd.databricks.v1+cell": {
     "cellMetadata": {},
     "inputWidgets": {},
     "nuid": "9b142604-27da-4efc-87b5-e7a8eb95003f",
     "showTitle": false,
     "tableResultSettingsMap": {},
     "title": ""
    },
    "id": "fS1NIv4rx5Wt"
   },
   "source": [
    "## The first()\n",
    "\n",
    "> The .first() action on an RDD returns the first element from our RDD."
   ]
  },
  {
   "cell_type": "code",
   "execution_count": 0,
   "metadata": {
    "application/vnd.databricks.v1+cell": {
     "cellMetadata": {},
     "inputWidgets": {},
     "nuid": "3cfcfb9c-d97a-4dd8-a109-0710a97dd3af",
     "showTitle": false,
     "tableResultSettingsMap": {},
     "title": ""
    },
    "colab": {
     "base_uri": "https://localhost:8080/"
    },
    "id": "vUEnt4qDyFR2",
    "outputId": "5098ee52-0729-4d84-c2a5-824b749d8e66"
   },
   "outputs": [],
   "source": [
    "first_element = rdd.first()\n",
    "print(first_element)"
   ]
  },
  {
   "cell_type": "markdown",
   "metadata": {
    "application/vnd.databricks.v1+cell": {
     "cellMetadata": {},
     "inputWidgets": {},
     "nuid": "b0327b69-0dba-49dc-8f8f-2cdcb98dd3a2",
     "showTitle": false,
     "tableResultSettingsMap": {},
     "title": ""
    },
    "id": "EECHs9ityW-Q"
   },
   "source": [
    "## The .take(n)\n",
    "\n",
    "> The .take(n) action on an RDD returns n number of elements from the RDD. The ‘n’ argument takes an integer which refers to the number of elements we want to extract from the RDD."
   ]
  },
  {
   "cell_type": "code",
   "execution_count": 0,
   "metadata": {
    "application/vnd.databricks.v1+cell": {
     "cellMetadata": {},
     "inputWidgets": {},
     "nuid": "6cb0edcc-d963-4aeb-99f9-dadb24a4dbd4",
     "showTitle": false,
     "tableResultSettingsMap": {},
     "title": ""
    },
    "colab": {
     "base_uri": "https://localhost:8080/"
    },
    "id": "cdlZ__uPyfAd",
    "outputId": "73b09d1b-70a8-4682-eab7-2efcb52d74c2"
   },
   "outputs": [],
   "source": [
    "for element in rdd.take(5):\n",
    "  print(element)"
   ]
  },
  {
   "cell_type": "markdown",
   "metadata": {
    "application/vnd.databricks.v1+cell": {
     "cellMetadata": {},
     "inputWidgets": {},
     "nuid": "3ec079ce-1262-4210-96a4-6b5c1945f279",
     "showTitle": false,
     "tableResultSettingsMap": {},
     "title": ""
    },
    "id": "9SrKn030vtgY"
   },
   "source": [
    "## The .collect()\n",
    "\n",
    "The .collect() action on an RDD returns a list of all the elements of the RDD."
   ]
  },
  {
   "cell_type": "code",
   "execution_count": 0,
   "metadata": {
    "application/vnd.databricks.v1+cell": {
     "cellMetadata": {},
     "inputWidgets": {},
     "nuid": "751ea1f9-69c8-4e23-b4d5-28d39466f5cd",
     "showTitle": false,
     "tableResultSettingsMap": {},
     "title": ""
    },
    "colab": {
     "base_uri": "https://localhost:8080/"
    },
    "id": "zcLF4Z3Avqgh",
    "outputId": "8c6547b7-de9a-43d0-bda2-6dab9c87bf79"
   },
   "outputs": [],
   "source": [
    "for record in rdd.collect():\n",
    "   print(record)"
   ]
  },
  {
   "cell_type": "markdown",
   "metadata": {
    "application/vnd.databricks.v1+cell": {
     "cellMetadata": {},
     "inputWidgets": {},
     "nuid": "338de432-13d6-450e-a81e-acbf6edf488d",
     "showTitle": false,
     "tableResultSettingsMap": {},
     "title": ""
    },
    "id": "jePxgfrY32ci"
   },
   "source": [
    "## The .saveAsTextFile\n",
    "\n",
    "The .saveAsTextFile() Action is used to serve the resultant RDD as a text file."
   ]
  },
  {
   "cell_type": "markdown",
   "metadata": {
    "application/vnd.databricks.v1+cell": {
     "cellMetadata": {},
     "inputWidgets": {},
     "nuid": "ed1f5a7f-f967-4772-958f-96a41481d870",
     "showTitle": false,
     "tableResultSettingsMap": {},
     "title": ""
    },
    "id": "u_uxxPbuGIcG"
   },
   "source": [
    "## The .top()\n",
    "The top() action returns the top n elements of an RDD:"
   ]
  },
  {
   "cell_type": "code",
   "execution_count": 0,
   "metadata": {
    "application/vnd.databricks.v1+cell": {
     "cellMetadata": {},
     "inputWidgets": {},
     "nuid": "c8974a52-395c-4eb9-b8ec-83c007db0962",
     "showTitle": false,
     "tableResultSettingsMap": {},
     "title": ""
    },
    "id": "YxV6XbMsGMC_"
   },
   "outputs": [],
   "source": [
    "rdd.top(3)"
   ]
  },
  {
   "cell_type": "markdown",
   "metadata": {
    "application/vnd.databricks.v1+cell": {
     "cellMetadata": {},
     "inputWidgets": {},
     "nuid": "692fd14e-e3e2-4d0c-aabf-1520d1c6ad4c",
     "showTitle": false,
     "tableResultSettingsMap": {},
     "title": ""
    },
    "id": "oWSp1c5lGSiY"
   },
   "source": [
    "## The .reduce()\n",
    "The reduce() action returns one element from two elements from RDD by applying lambda function:"
   ]
  },
  {
   "cell_type": "markdown",
   "metadata": {
    "application/vnd.databricks.v1+cell": {
     "cellMetadata": {},
     "inputWidgets": {},
     "nuid": "f80191ef-0b9b-4326-ab04-20c26a4aa7de",
     "showTitle": false,
     "tableResultSettingsMap": {},
     "title": ""
    },
    "id": "t8BdrL8GGX_7"
   },
   "source": [
    "## The .sum()\n",
    "The sum() action returns the sum of the elements of an RDD:"
   ]
  },
  {
   "cell_type": "code",
   "execution_count": 0,
   "metadata": {
    "application/vnd.databricks.v1+cell": {
     "cellMetadata": {},
     "inputWidgets": {},
     "nuid": "7a94621d-7c4d-44b9-ba0a-541938b266f4",
     "showTitle": false,
     "tableResultSettingsMap": {},
     "title": ""
    },
    "id": "bp4imND5GZ9N"
   },
   "outputs": [],
   "source": []
  }
 ],
 "metadata": {
  "application/vnd.databricks.v1+notebook": {
   "computePreferences": null,
   "dashboards": [],
   "environmentMetadata": {
    "base_environment": "",
    "client": "1"
   },
   "language": "python",
   "notebookMetadata": {
    "pythonIndentUnit": 4
   },
   "notebookName": "A Comprehensive Guide - PySpark RDD Operations",
   "widgets": {}
  },
  "colab": {
   "provenance": [],
   "toc_visible": true
  },
  "kernelspec": {
   "display_name": "Python 3",
   "name": "python3"
  },
  "language_info": {
   "name": "python"
  }
 },
 "nbformat": 4,
 "nbformat_minor": 0
}